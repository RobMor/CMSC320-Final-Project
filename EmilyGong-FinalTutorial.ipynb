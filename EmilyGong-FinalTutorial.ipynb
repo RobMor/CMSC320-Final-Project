{
 "cells": [
  {
   "cell_type": "markdown",
   "metadata": {},
   "source": [
    "# Final Tutorial Notebook\n",
    "#### Emily Gong, Robert Morrison\n",
    "\n",
    "In this notebook we will explore the transcripts from UN General Debates. Our goal is to understand what differences exist between speakers of different language backgrounds"
   ]
  },
  {
   "cell_type": "code",
   "execution_count": 1,
   "metadata": {},
   "outputs": [],
   "source": [
    "import numpy as np\n",
    "import pandas as pd\n",
    "\n",
    "import re\n",
    "\n",
    "import requests\n",
    "import bs4\n",
    "\n",
    "import nltk\n",
    "import spacy\n",
    "from spacy import displacy #display word entities\n",
    "import en_core_web_sm #language model\n",
    "from collections import Counter\n",
    "nlp = en_core_web_sm.load() \n",
    "\n",
    "# Below are libraries for LDA using gensim which is provides less control \n",
    "from nltk.corpus import stopwords #stop words to be filited out\n",
    "from gensim import models, corpora #Used for LDA topic modeling\n",
    "from sklearn.metrics.pairwise import euclidean_distances \n",
    "import pyLDAvis.gensim #python library for interactive topic model visualization\n",
    "pyLDAvis.enable_notebook()\n",
    "\n",
    "import warnings\n",
    "warnings.filterwarnings(\"ignore\", category=DeprecationWarning) \n",
    "\n",
    "#Below are libraries for LDA using sklearn\n",
    "\n",
    "\n",
    "from sklearn.feature_extraction.text import TfidfVectorizer"
   ]
  },
  {
   "cell_type": "markdown",
   "metadata": {},
   "source": [
    "# Introduction"
   ]
  },
  {
   "cell_type": "markdown",
   "metadata": {},
   "source": [
    "The United Nations is an international organization of independent states to promote peace and international cooperation and security. Currently, there are 193 soverign states and they meet every year in regular session on the Tuesday of the third week in September. "
   ]
  },
  {
   "cell_type": "markdown",
   "metadata": {},
   "source": [
    "# Loading Data\n",
    "## Raw Data"
   ]
  },
  {
   "cell_type": "code",
   "execution_count": 2,
   "metadata": {},
   "outputs": [
    {
     "data": {
      "text/html": [
       "<div>\n",
       "<style scoped>\n",
       "    .dataframe tbody tr th:only-of-type {\n",
       "        vertical-align: middle;\n",
       "    }\n",
       "\n",
       "    .dataframe tbody tr th {\n",
       "        vertical-align: top;\n",
       "    }\n",
       "\n",
       "    .dataframe thead th {\n",
       "        text-align: right;\n",
       "    }\n",
       "</style>\n",
       "<table border=\"1\" class=\"dataframe\">\n",
       "  <thead>\n",
       "    <tr style=\"text-align: right;\">\n",
       "      <th></th>\n",
       "      <th>session</th>\n",
       "      <th>year</th>\n",
       "      <th>country</th>\n",
       "      <th>text</th>\n",
       "    </tr>\n",
       "  </thead>\n",
       "  <tbody>\n",
       "    <tr>\n",
       "      <th>0</th>\n",
       "      <td>44</td>\n",
       "      <td>1989</td>\n",
       "      <td>MDV</td>\n",
       "      <td>﻿It is indeed a pleasure for me and the member...</td>\n",
       "    </tr>\n",
       "    <tr>\n",
       "      <th>1</th>\n",
       "      <td>44</td>\n",
       "      <td>1989</td>\n",
       "      <td>FIN</td>\n",
       "      <td>﻿\\nMay I begin by congratulating you. Sir, on ...</td>\n",
       "    </tr>\n",
       "    <tr>\n",
       "      <th>2</th>\n",
       "      <td>44</td>\n",
       "      <td>1989</td>\n",
       "      <td>NER</td>\n",
       "      <td>﻿\\nMr. President, it is a particular pleasure ...</td>\n",
       "    </tr>\n",
       "    <tr>\n",
       "      <th>3</th>\n",
       "      <td>44</td>\n",
       "      <td>1989</td>\n",
       "      <td>URY</td>\n",
       "      <td>﻿\\nDuring the debate at the fortieth session o...</td>\n",
       "    </tr>\n",
       "    <tr>\n",
       "      <th>4</th>\n",
       "      <td>44</td>\n",
       "      <td>1989</td>\n",
       "      <td>ZWE</td>\n",
       "      <td>﻿I should like at the outset to express my del...</td>\n",
       "    </tr>\n",
       "  </tbody>\n",
       "</table>\n",
       "</div>"
      ],
      "text/plain": [
       "   session  year country                                               text\n",
       "0       44  1989     MDV  ﻿It is indeed a pleasure for me and the member...\n",
       "1       44  1989     FIN  ﻿\\nMay I begin by congratulating you. Sir, on ...\n",
       "2       44  1989     NER  ﻿\\nMr. President, it is a particular pleasure ...\n",
       "3       44  1989     URY  ﻿\\nDuring the debate at the fortieth session o...\n",
       "4       44  1989     ZWE  ﻿I should like at the outset to express my del..."
      ]
     },
     "execution_count": 2,
     "metadata": {},
     "output_type": "execute_result"
    }
   ],
   "source": [
    "data = pd.read_csv(\"un-general-debates.csv\")\n",
    "data.head()"
   ]
  },
  {
   "cell_type": "code",
   "execution_count": 3,
   "metadata": {},
   "outputs": [
    {
     "name": "stdout",
     "output_type": "stream",
     "text": [
      "7507\n"
     ]
    }
   ],
   "source": [
    "print(len(data))"
   ]
  },
  {
   "cell_type": "code",
   "execution_count": 4,
   "metadata": {},
   "outputs": [
    {
     "name": "stdout",
     "output_type": "stream",
     "text": [
      "['MDV' 'FIN' 'NER' 'URY' 'ZWE' 'PHL' 'SDN' 'RUS' 'CHN' 'ESP' 'SUR' 'ARG'\n",
      " 'SLV' 'MYS' 'NPL' 'PRT' 'COL' 'BLR' 'MAR' 'LCA' 'EGY' 'MEX' 'BEL' 'BRN'\n",
      " 'RWA' 'CAN' 'ALB' 'GRC' 'KNA' 'GUY' 'LBR' 'ATG' 'MOZ' 'JPN' 'YDYE' 'GAB'\n",
      " 'BGD' 'SWE' 'TUR' 'TCD' 'SYR' 'CMR' 'JAM' 'LUX' 'ITA' 'AGO' 'CRI' 'CSK'\n",
      " 'BFA' 'MNG' 'BHR' 'HTI' 'OMN' 'CIV' 'TGO' 'CYP' 'MUS' 'MMR' 'ARE' 'GTM'\n",
      " 'GRD' 'LBY' 'LKA' 'TZA' 'SGP' 'NOR' 'LAO' 'ISL' 'AFG' 'CHL' 'DMA' 'UKR'\n",
      " 'KEN' 'BLZ' 'FRA' 'MLI' 'VCT' 'VEN' 'MLT' 'GHA' 'GIN' 'GBR' 'ISR' 'YUG'\n",
      " 'BRB' 'IRQ' 'HUN' 'AUT' 'POL' 'GNB' 'BWA' 'MRT' 'SWZ' 'DNK' 'DOM' 'MDG'\n",
      " 'NIC' 'BDI' 'CUB' 'IRN' 'PAK' 'SEN' 'BGR' 'YEM' 'STP' 'NLD' 'VUT' 'BOL'\n",
      " 'PNG' 'SLB' 'DEU' 'ROU' 'KHM' 'TUN' 'BRA' 'IND' 'IDN' 'AUS' 'COD' 'HND'\n",
      " 'GNQ' 'FJI' 'IRL' 'DZA' 'USA' 'LSO' 'GMB' 'PER' 'DDR' 'THA' 'JOR' 'COG'\n",
      " 'NGA' 'ECU' 'SAU' 'QAT' 'SYC' 'ETH' 'TTO' 'PRY' 'VNM' 'NZL' 'PAN' 'MWI'\n",
      " 'DJI' 'BEN' 'SOM' 'ZMB' 'CPV' 'BHS' 'KWT' 'UGA' 'COM' 'ZAF' 'LBN' 'SLE'\n",
      " 'KOR' 'BIH' 'TON' 'EU' 'HRV' 'NRU' 'TUV' 'NAM' 'SMR' 'LIE' 'MKD' 'TLS'\n",
      " 'FSM' 'KIR' 'BTN' 'SVK' 'WSM' 'MNE' 'GEO' 'LTU' 'AND' 'TJK' 'MHL' 'EST'\n",
      " 'LVA' 'CAF' 'TKM' 'MDA' 'SSD' 'KGZ' 'AZE' 'PSE' 'PRK' 'CZE' 'ERI' 'ARM'\n",
      " 'UZB' 'PLW' 'VAT' 'MCO' 'CHE' 'KAZ' 'SVN']\n",
      "199\n"
     ]
    }
   ],
   "source": [
    "countries = data[\"country\"].unique()\n",
    "print(countries)\n",
    "print(len(countries))"
   ]
  },
  {
   "cell_type": "code",
   "execution_count": 5,
   "metadata": {},
   "outputs": [
    {
     "name": "stdout",
     "output_type": "stream",
     "text": [
      "[1989 1970 2013 1985 2008 1991 1986 2002 1975 1996 2012 1997 1978 1988\n",
      " 2010 1984 1995 2009 1971 1976 1983 1979 1999 2005 1987 1982 1998 2003\n",
      " 2004 1980 2014 2011 1974 2015 1993 1977 1981 2000 1992 1990 1973 1994\n",
      " 1972 2006 2007 2001]\n",
      "46\n"
     ]
    }
   ],
   "source": [
    "years = data[\"year\"].unique()\n",
    "print(years)\n",
    "print(len(years))\n",
    "# 46 Examples of each country"
   ]
  },
  {
   "cell_type": "markdown",
   "metadata": {},
   "source": [
    "## Scraping"
   ]
  },
  {
   "cell_type": "code",
   "execution_count": 6,
   "metadata": {},
   "outputs": [],
   "source": [
    "# Getting a decoding table and access to each countries Wikipedia page\n",
    "url = \"https://en.wikipedia.org/wiki/ISO_3166-1_alpha-3\"\n",
    "r = requests.get(url)\n",
    "soup = bs4.BeautifulSoup(r.text)"
   ]
  },
  {
   "cell_type": "code",
   "execution_count": 7,
   "metadata": {},
   "outputs": [],
   "source": [
    "found = soup.find(\"div\", class_=\"plainlist\").find(\"ul\")"
   ]
  },
  {
   "cell_type": "code",
   "execution_count": 8,
   "metadata": {},
   "outputs": [],
   "source": [
    "lookup = {} # dict {country code : [Country Name, wikipedia link]}\n",
    "\n",
    "for child in found.children:\n",
    "    if isinstance(child, bs4.Tag):\n",
    "        c_code = child.find(\"span\").text\n",
    "        link = child.find(\"a\").get(\"href\")\n",
    "        country = child.find(\"a\").text\n",
    "        \n",
    "        lookup[c_code] = [country, link]\n",
    "\n",
    "lookup[\"CSK\"] = [\"Czechoslovakia\", \"/wiki/Czechoslovakia\"]\n",
    "lookup[\"YDYE\"] = [\"South Yemen\", \"/wiki/South_Yemen\"]\n",
    "lookup[\"YUG\"] = [\"Yugoslavia\", \"/wiki/Yugoslavia\"]\n",
    "lookup[\"DDR\"] = [\"East Germany\", \"/wiki/East_Germany\"]\n",
    "lookup[\"EU\"] = [\"European Union\", \"/wiki/European_Union\"]"
   ]
  },
  {
   "cell_type": "code",
   "execution_count": 9,
   "metadata": {},
   "outputs": [],
   "source": [
    "data[\"name\"] = [lookup[code][0] for code in data[\"country\"]]"
   ]
  },
  {
   "cell_type": "markdown",
   "metadata": {},
   "source": [
    "# EDA"
   ]
  },
  {
   "cell_type": "code",
   "execution_count": 10,
   "metadata": {},
   "outputs": [
    {
     "name": "stdout",
     "output_type": "stream",
     "text": [
      "It is indeed a pleasure for me and the members of my delegation to extend to Ambassador Garba our si\n"
     ]
    }
   ],
   "source": [
    "sample_text = data.loc[0][\"text\"]\n",
    "sample_text = sample_text.replace(u'\\ufeff', '')\n",
    "print(sample_text[0:100])"
   ]
  },
  {
   "cell_type": "code",
   "execution_count": 40,
   "metadata": {},
   "outputs": [
    {
     "name": "stdout",
     "output_type": "stream",
     "text": [
      "['it', 'is', 'indeed', 'a', 'pleasure', 'for', 'me', 'and', 'the', 'members']\n"
     ]
    }
   ],
   "source": [
    "# nltk.word_tokenize(sample_text)\n",
    "tokens = nltk.word_tokenize(sample_text.lower())\n",
    "print(tokens[0:10])"
   ]
  },
  {
   "cell_type": "code",
   "execution_count": 41,
   "metadata": {},
   "outputs": [
    {
     "data": {
      "text/plain": [
       "[('it', 'PRP'),\n",
       " ('is', 'VBZ'),\n",
       " ('indeed', 'RB'),\n",
       " ('a', 'DT'),\n",
       " ('pleasure', 'NN'),\n",
       " ('for', 'IN'),\n",
       " ('me', 'PRP'),\n",
       " ('and', 'CC'),\n",
       " ('the', 'DT'),\n",
       " ('members', 'NNS')]"
      ]
     },
     "execution_count": 41,
     "metadata": {},
     "output_type": "execute_result"
    }
   ],
   "source": [
    "pos = nltk.pos_tag(tokens)\n",
    "pos[:10]"
   ]
  },
  {
   "cell_type": "code",
   "execution_count": 42,
   "metadata": {},
   "outputs": [
    {
     "data": {
      "text/plain": [
       "[('it', 'PRP'),\n",
       " ('is', 'VBZ'),\n",
       " ('indeed', 'RB'),\n",
       " ('a', 'DT'),\n",
       " ('pleasure', 'NN'),\n",
       " ('for', 'IN'),\n",
       " ('me', 'PRP'),\n",
       " ('and', 'CC'),\n",
       " ('the', 'DT'),\n",
       " ('members', 'NNS'),\n",
       " ('of', 'IN'),\n",
       " ('my', 'PRP$'),\n",
       " ('delegation', 'NN'),\n",
       " ('to', 'TO'),\n",
       " ('extend', 'VB'),\n",
       " ('to', 'TO'),\n",
       " ('ambassador', 'VB'),\n",
       " ('garba', 'VB'),\n",
       " ('our', 'PRP$'),\n",
       " ('sincere', 'JJ')]"
      ]
     },
     "execution_count": 42,
     "metadata": {},
     "output_type": "execute_result"
    }
   ],
   "source": [
    "# Don't use this bruh\n",
    "chunk = nltk.ne_chunk(pos)\n",
    "chunk[:20]"
   ]
  },
  {
   "cell_type": "code",
   "execution_count": 43,
   "metadata": {},
   "outputs": [
    {
     "name": "stdout",
     "output_type": "stream",
     "text": [
      "142\n",
      "[('the General Assembly', 'ORG'), ('Assembly', 'ORG'), ('the past year', 'DATE'), ('\\n', 'GPE'), ('Dante Caputo', 'PERSON'), ('forty-third', 'CARDINAL'), ('the General Assembly', 'ORG'), ('\\n', 'GPE'), ('As in previous years', 'TIME'), ('the United Nations', 'ORG'), ('the Charter of the United Nations', 'LAW'), ('Organization', 'ORG'), ('recent years', 'DATE'), ('Organization', 'ORG'), ('Today', 'DATE'), ('Recent years', 'DATE'), ('-Power', 'ORG'), ('\\n', 'GPE'), ('Africa', 'LOC'), ('Namibia', 'GPE')]\n",
      "The 1980s have witnessed one of the longest spells of growth for the industrialized countries, while the situation in the South, particularly in the least developed countries, continues to deteriorate.\n"
     ]
    },
    {
     "data": {
      "text/html": [
       "<div class=\"entities\" style=\"line-height: 2.5\">\n",
       "<mark class=\"entity\" style=\"background: #bfe1d9; padding: 0.45em 0.6em; margin: 0 0.25em; line-height: 1; border-radius: 0.35em; box-decoration-break: clone; -webkit-box-decoration-break: clone\">\n",
       "    The 1980s\n",
       "    <span style=\"font-size: 0.8em; font-weight: bold; line-height: 1; border-radius: 0.35em; text-transform: uppercase; vertical-align: middle; margin-left: 0.5rem\">DATE</span>\n",
       "</mark>\n",
       " have witnessed one of the longest spells of growth for the industrialized countries, while the situation in the \n",
       "<mark class=\"entity\" style=\"background: #ff9561; padding: 0.45em 0.6em; margin: 0 0.25em; line-height: 1; border-radius: 0.35em; box-decoration-break: clone; -webkit-box-decoration-break: clone\">\n",
       "    South\n",
       "    <span style=\"font-size: 0.8em; font-weight: bold; line-height: 1; border-radius: 0.35em; text-transform: uppercase; vertical-align: middle; margin-left: 0.5rem\">LOC</span>\n",
       "</mark>\n",
       ", particularly in the least developed countries, continues to deteriorate.</div>"
      ],
      "text/plain": [
       "<IPython.core.display.HTML object>"
      ]
     },
     "metadata": {},
     "output_type": "display_data"
    }
   ],
   "source": [
    "nlp = en_core_web_sm.load()\n",
    "nlp = spacy.load('en_core_web_sm')\n",
    "doc = nlp(sample_text)\n",
    "print(len(doc.ents))\n",
    "\n",
    "print([(X.text, X.label_) for X in doc.ents[:20]])\n",
    "\n",
    "labels = [x.label_ for x in doc.ents]\n",
    "Counter(labels)\n",
    "\n",
    "items= [x.text for x in doc.ents]\n",
    "Counter(items).most_common(3)\n",
    "\n",
    "sentences = [x for x in doc.sents]\n",
    "print(sentences[21])\n",
    "\n",
    "displacy.render(nlp(str(sentences[21])), jupyter=True, style='ent')"
   ]
  },
  {
   "cell_type": "code",
   "execution_count": 44,
   "metadata": {},
   "outputs": [],
   "source": [
    "vect = TfidfVectorizer()\n",
    "\n",
    "tfidf = vect.fit_transform(data[\"text\"])"
   ]
  },
  {
   "cell_type": "code",
   "execution_count": 45,
   "metadata": {},
   "outputs": [
    {
     "data": {
      "text/plain": [
       "<7507x54892 sparse matrix of type '<class 'numpy.float64'>'\n",
       "\twith 6900203 stored elements in Compressed Sparse Row format>"
      ]
     },
     "execution_count": 45,
     "metadata": {},
     "output_type": "execute_result"
    }
   ],
   "source": [
    "tfidf"
   ]
  },
  {
   "cell_type": "code",
   "execution_count": 46,
   "metadata": {},
   "outputs": [],
   "source": [
    "# LDA Topic Modeling"
   ]
  },
  {
   "cell_type": "code",
   "execution_count": 47,
   "metadata": {},
   "outputs": [],
   "source": [
    "num_topic = 2\n",
    "stop_words = stopwords.words('english')\n",
    "gensim_tokenized_data = []\n",
    "# gensim needs the data to have removed stop words \n",
    "# Later: can create a method to produce clean data\n",
    "gensim_tokenized_data.append([t.lower() for t in tokens if t not in stop_words and re.match('[a-zA-Z\\-][a-zA-Z\\-]{2,}', t)])\n",
    "gensim_dictionary = corpora.Dictionary(gensim_tokenized_data)\n",
    "# Convert document into the bag-of-words (BoW) format = list of (token_id, token_count) tuples.\n",
    "gensim_corpus = [gensim_dictionary.doc2bow(text) for text in gensim_tokenized_data]\n",
    "lda_model = models.LdaModel(corpus=gensim_corpus, num_topics=num_topic, id2word=gensim_dictionary)"
   ]
  },
  {
   "cell_type": "code",
   "execution_count": 48,
   "metadata": {},
   "outputs": [],
   "source": [
    "# print(\"LDA Model:\")\n",
    " \n",
    "# for idx in range(num_topic):\n",
    "#     # Print the first 10 most representative topics\n",
    "#     print(\"Topic #%s:\" % idx, lda_model.print_topic(idx, 10))\n",
    " \n",
    "# print(\"=\" * 20)"
   ]
  },
  {
   "cell_type": "code",
   "execution_count": 49,
   "metadata": {},
   "outputs": [],
   "source": [
    "def most_similar(x, Z, top_n=5):\n",
    "    dists = euclidean_distances(x.reshape(1, -1), Z)\n",
    "    pairs = enumerate(dists[0])\n",
    "    most_similar = sorted(pairs, key=lambda item: item[1])[:top_n]\n",
    "    return most_similar\n"
   ]
  },
  {
   "cell_type": "code",
   "execution_count": 50,
   "metadata": {},
   "outputs": [
    {
     "data": {
      "text/html": [
       "\n",
       "<link rel=\"stylesheet\" type=\"text/css\" href=\"https://cdn.rawgit.com/bmabey/pyLDAvis/files/ldavis.v1.0.0.css\">\n",
       "\n",
       "\n",
       "<div id=\"ldavis_el99200112409643552498571478\"></div>\n",
       "<script type=\"text/javascript\">\n",
       "\n",
       "var ldavis_el99200112409643552498571478_data = {\"mdsDat\": {\"x\": [0.0015663069207221267, -0.0015663069207221267], \"y\": [0.0, 0.0], \"topics\": [1, 2], \"cluster\": [1, 1], \"Freq\": [75.66229248046875, 24.337711334228516]}, \"tinfo\": {\"Category\": [\"Default\", \"Default\", \"Default\", \"Default\", \"Default\", \"Default\", \"Default\", \"Default\", \"Default\", \"Default\", \"Default\", \"Default\", \"Default\", \"Default\", \"Default\", \"Default\", \"Default\", \"Default\", \"Default\", \"Default\", \"Default\", \"Default\", \"Default\", \"Default\", \"Default\", \"Default\", \"Default\", \"Default\", \"Default\", \"Default\", \"Topic1\", \"Topic1\", \"Topic1\", \"Topic1\", \"Topic1\", \"Topic1\", \"Topic1\", \"Topic1\", \"Topic1\", \"Topic1\", \"Topic1\", \"Topic1\", \"Topic1\", \"Topic1\", \"Topic1\", \"Topic1\", \"Topic1\", \"Topic1\", \"Topic1\", \"Topic1\", \"Topic1\", \"Topic1\", \"Topic1\", \"Topic1\", \"Topic1\", \"Topic1\", \"Topic1\", \"Topic1\", \"Topic1\", \"Topic1\", \"Topic1\", \"Topic1\", \"Topic1\", \"Topic1\", \"Topic1\", \"Topic1\", \"Topic1\", \"Topic1\", \"Topic1\", \"Topic1\", \"Topic1\", \"Topic1\", \"Topic1\", \"Topic1\", \"Topic1\", \"Topic1\", \"Topic1\", \"Topic1\", \"Topic1\", \"Topic1\", \"Topic1\", \"Topic1\", \"Topic1\", \"Topic1\", \"Topic1\", \"Topic2\", \"Topic2\", \"Topic2\", \"Topic2\", \"Topic2\", \"Topic2\", \"Topic2\", \"Topic2\", \"Topic2\", \"Topic2\", \"Topic2\", \"Topic2\", \"Topic2\", \"Topic2\", \"Topic2\", \"Topic2\", \"Topic2\", \"Topic2\", \"Topic2\", \"Topic2\", \"Topic2\", \"Topic2\", \"Topic2\", \"Topic2\", \"Topic2\", \"Topic2\", \"Topic2\", \"Topic2\", \"Topic2\", \"Topic2\", \"Topic2\", \"Topic2\", \"Topic2\", \"Topic2\", \"Topic2\", \"Topic2\", \"Topic2\", \"Topic2\", \"Topic2\", \"Topic2\", \"Topic2\", \"Topic2\", \"Topic2\", \"Topic2\", \"Topic2\", \"Topic2\", \"Topic2\", \"Topic2\", \"Topic2\", \"Topic2\", \"Topic2\", \"Topic2\", \"Topic2\", \"Topic2\", \"Topic2\", \"Topic2\", \"Topic2\", \"Topic2\", \"Topic2\", \"Topic2\", \"Topic2\", \"Topic2\", \"Topic2\", \"Topic2\", \"Topic2\"], \"Freq\": [5.0, 8.0, 5.0, 8.0, 6.0, 9.0, 7.0, 4.0, 6.0, 6.0, 2.0, 4.0, 5.0, 11.0, 6.0, 5.0, 4.0, 4.0, 3.0, 2.0, 2.0, 3.0, 9.0, 4.0, 3.0, 3.0, 4.0, 3.0, 3.0, 6.0, 1.7984634637832642, 1.753936767578125, 6.946315288543701, 2.3054771423339844, 1.706531286239624, 1.1253010034561157, 2.8124287128448486, 1.6805208921432495, 1.675951361656189, 4.4594197273254395, 5.014805793762207, 2.774176836013794, 6.633731842041016, 2.7603919506073, 2.2069902420043945, 7.7210822105407715, 1.1025227308273315, 1.6511942148208618, 9.291924476623535, 2.7287278175354004, 2.1828882694244385, 5.992273330688477, 1.0870925188064575, 2.173985719680786, 1.6287592649459839, 3.2573745250701904, 1.6253974437713623, 2.16572904586792, 3.245088577270508, 1.6116377115249634, 5.263089179992676, 7.66677713394165, 3.666968584060669, 2.649714231491089, 2.6428089141845703, 3.618887186050415, 5.84783935546875, 4.906190872192383, 5.2873148918151855, 5.271167755126953, 6.434661388397217, 3.0745136737823486, 4.314798831939697, 6.249782562255859, 3.057677984237671, 4.198289394378662, 4.513296127319336, 3.0280683040618896, 3.7223947048187256, 3.3528196811676025, 3.3087987899780273, 3.974745273590088, 3.01059627532959, 3.6116793155670166, 3.125047206878662, 1.005484700202942, 1.9509531259536743, 0.5659751296043396, 0.37284010648727417, 1.8249229192733765, 0.3645387291908264, 0.5465942621231079, 0.36416396498680115, 0.9095863103866577, 0.3637116551399231, 1.269163727760315, 0.9047219753265381, 0.5418035387992859, 0.36037078499794006, 0.3587782680988312, 0.35804954171180725, 0.5366857051849365, 0.35727542638778687, 0.35538649559020996, 0.7106242775917053, 0.5324130654335022, 0.532275378704071, 0.7063175439834595, 0.7049291729927063, 0.3517443537712097, 0.5276060700416565, 0.527520477771759, 0.35145851969718933, 0.35131943225860596, 0.350348562002182, 1.224860429763794, 1.0432922840118408, 0.6983773112297058, 0.5250469446182251, 0.6953850984573364, 0.6950302720069885, 2.317061424255371, 0.8586582541465759, 2.25288462638855, 1.6379770040512085, 1.0085698366165161, 1.1584765911102295, 1.4268577098846436, 1.6953656673431396, 1.6897600889205933, 1.8156532049179077, 1.2715873718261719, 0.9819608330726624, 0.9792053699493408, 2.1456499099731445, 1.3864142894744873, 1.5015921592712402, 0.969706118106842, 2.222449779510498, 1.0946911573410034, 0.9687713384628296, 1.8063324689865112, 1.079410195350647, 1.3777031898498535, 1.5428484678268433, 1.4450500011444092, 1.4343420267105103, 1.1434221267700195, 1.0157455205917358, 0.9870508909225464], \"Term\": [\"countries\", \"situation\", \"small\", \"efforts\", \"continues\", \"international\", \"peace\", \"issue\", \"welcome\", \"political\", \"state\", \"taken\", \"maldives\", \"security\", \"nuclear\", \"conflict\", \"united\", \"people\", \"national\", \"peaceful\", \"zones\", \"recent\", \"states\", \"weapons\", \"system\", \"parties\", \"delegation\", \"community\", \"years\", \"economic\", \"regret\", \"past\", \"environment\", \"disarmament\", \"part\", \"delicacy\", \"note\", \"rights\", \"paris\", \"support\", \"nations\", \"independence\", \"development\", \"survival\", \"layer\", \"states\", \"appreciation\", \"single\", \"security\", \"today\", \"also\", \"global\", \"threat\", \"general\", \"awareness\", \"therefore\", \"programme\", \"weaker\", \"hope\", \"acts\", \"economic\", \"international\", \"continue\", \"integrity\", \"opportunity\", \"conference\", \"peace\", \"nuclear\", \"political\", \"welcome\", \"efforts\", \"regional\", \"conflict\", \"situation\", \"well\", \"maldives\", \"continues\", \"sovereignty\", \"united\", \"delegation\", \"weapons\", \"small\", \"important\", \"countries\", \"people\", \"state\", \"countries\", \"full\", \"iraq\", \"small\", \"ahead\", \"weakest\", \"solve\", \"peaceful\", \"subjected\", \"issue\", \"zones\", \"condemn\", \"participation\", \"rivalries\", \"exemplary\", \"strong\", \"larger\", \"tragic\", \"indeed\", \"would\", \"effect\", \"reduction\", \"terrorism\", \"leap\", \"systems\", \"related\", \"nodes\", \"unequal\", \"understanding\", \"taken\", \"national\", \"israel\", \"prospects\", \"communities\", \"ozone\", \"situation\", \"lebanon\", \"efforts\", \"continues\", \"recent\", \"people\", \"maldives\", \"welcome\", \"political\", \"peace\", \"united\", \"system\", \"parties\", \"international\", \"conflict\", \"nuclear\", \"community\", \"security\", \"weapons\", \"years\", \"states\", \"delegation\", \"economic\", \"development\", \"global\", \"environment\", \"nations\", \"support\", \"conference\"], \"Total\": [5.0, 8.0, 5.0, 8.0, 6.0, 9.0, 7.0, 4.0, 6.0, 6.0, 2.0, 4.0, 5.0, 11.0, 6.0, 5.0, 4.0, 4.0, 3.0, 2.0, 2.0, 3.0, 9.0, 4.0, 3.0, 3.0, 4.0, 3.0, 3.0, 6.0, 2.1355671882629395, 2.106496810913086, 8.380657196044922, 2.7870490550994873, 2.075547218322754, 1.3756113052368164, 3.438490390777588, 2.058565616607666, 2.0555825233459473, 5.475165367126465, 6.158227920532227, 3.4135167598724365, 8.176580429077148, 3.4045169353485107, 2.722749710083008, 9.527414321899414, 1.3607399463653564, 2.039419174194336, 11.514373779296875, 3.3838443756103516, 2.7070140838623047, 7.437323570251465, 1.3506660461425781, 2.701201915740967, 2.0247719287872314, 4.049449920654297, 2.0225770473480225, 2.6958112716674805, 4.041429042816162, 2.0135936737060547, 6.640792369842529, 9.812427520751953, 4.637329578399658, 3.332258701324463, 3.3277502059936523, 4.605937957763672, 7.663492679595947, 6.407783031463623, 6.977075099945068, 6.966533660888672, 8.687545776367188, 3.9300649166107178, 5.7012128829956055, 8.56684398651123, 3.9190735816955566, 5.625146865844727, 6.151273250579834, 3.8997421264648438, 4.993982315063477, 4.432229995727539, 4.40349006652832, 5.799668312072754, 3.8883349895477295, 5.5626325607299805, 4.2835235595703125, 2.72487735748291, 5.5626325607299805, 1.7051093578338623, 1.1451592445373535, 5.799668312072754, 1.1607720851898193, 1.7415603399276733, 1.161476969718933, 2.9052419662475586, 1.162327766418457, 4.075345516204834, 2.914390802383423, 1.7505707740783691, 1.1686112880706787, 1.1716063022613525, 1.1729768514633179, 1.7601962089538574, 1.1744329929351807, 1.177985668182373, 2.356250762939453, 1.7682321071624756, 1.7684910297393799, 2.3643507957458496, 2.36696195602417, 1.18483567237854, 1.7772736549377441, 1.7774341106414795, 1.1853731870651245, 1.1856348514556885, 1.1874607801437378, 4.158669948577881, 3.5769646167755127, 2.379284620285034, 1.7820862531661987, 2.3849124908447266, 2.385579824447632, 8.56684398651123, 3.0010266304016113, 8.687545776367188, 6.151273250579834, 3.642270088195801, 4.2835235595703125, 5.625146865844727, 6.966533660888672, 6.977075099945068, 7.663492679595947, 4.993982315063477, 3.692316770553589, 3.6974985599517822, 9.812427520751953, 5.7012128829956055, 6.407783031463623, 3.715364694595337, 11.514373779296875, 4.40349006652832, 3.717123031616211, 9.527414321899414, 4.432229995727539, 6.640792369842529, 8.176580429077148, 7.437323570251465, 8.380657196044922, 6.158227920532227, 5.475165367126465, 4.605937957763672], \"loglift\": [30.0, 29.0, 28.0, 27.0, 26.0, 25.0, 24.0, 23.0, 22.0, 21.0, 20.0, 19.0, 18.0, 17.0, 16.0, 15.0, 14.0, 13.0, 12.0, 11.0, 10.0, 9.0, 8.0, 7.0, 6.0, 5.0, 4.0, 3.0, 2.0, 1.0, 0.1071000024676323, 0.09570000320672989, 0.09120000153779984, 0.08919999748468399, 0.08309999853372574, 0.07800000160932541, 0.0778999999165535, 0.07599999755620956, 0.0746999979019165, 0.07370000332593918, 0.07349999994039536, 0.07150000333786011, 0.0697999969124794, 0.06920000165700912, 0.06889999657869339, 0.06870000064373016, 0.06849999725818634, 0.06769999861717224, 0.06440000236034393, 0.06369999796152115, 0.06369999796152115, 0.06289999932050705, 0.061799999326467514, 0.061799999326467514, 0.06129999831318855, 0.06120000034570694, 0.06030000001192093, 0.05990000069141388, 0.05939999967813492, 0.05620000138878822, 0.04639999940991402, 0.032099999487400055, 0.04410000145435333, 0.04969999939203262, 0.04839999973773956, 0.037700001150369644, 0.008500000461935997, 0.011900000274181366, 0.0015999999595806003, 0.0, -0.021299999207258224, 0.033399999141693115, 0.0003000000142492354, -0.0364999994635582, 0.030700000002980232, -0.013700000010430813, -0.030700000002980232, 0.02590000070631504, -0.014999999664723873, -0.00019999999494757503, -0.006899999920278788, -0.09889999777078629, 0.023000000044703484, -0.15299999713897705, -0.036400001496076584, 0.41620001196861267, 0.3653999865055084, 0.31029999256134033, 0.29100000858306885, 0.25690001249313354, 0.2549000084400177, 0.25429999828338623, 0.2533000111579895, 0.25189998745918274, 0.25130000710487366, 0.24650000035762787, 0.2433999925851822, 0.2402999997138977, 0.23669999837875366, 0.2296999990940094, 0.226500004529953, 0.22540000081062317, 0.22310000658035278, 0.21480000019073486, 0.21449999511241913, 0.21279999613761902, 0.21240000426769257, 0.20489999651908875, 0.20190000534057617, 0.19869999587535858, 0.19869999587535858, 0.19840000569820404, 0.19740000367164612, 0.19679999351501465, 0.19249999523162842, 0.1907999962568283, 0.1809999942779541, 0.18729999661445618, 0.19110000133514404, 0.18070000410079956, 0.17990000545978546, 0.1054999977350235, 0.16179999709129333, 0.06350000202655792, 0.08990000188350677, 0.1290999948978424, 0.1054999977350235, 0.0414000004529953, -9.999999747378752e-05, -0.004900000058114529, -0.026900000870227814, 0.04520000144839287, 0.08869999647140503, 0.08449999988079071, -0.1071000024676323, -0.0007999999797903001, -0.03779999911785126, 0.06989999860525131, -0.23180000483989716, 0.021199999377131462, 0.06849999725818634, -0.24969999492168427, 0.000699999975040555, -0.15970000624656677, -0.25450000166893005, -0.22519999742507935, -0.3521000146865845, -0.27059999108314514, -0.27149999141693115, -0.12720000743865967], \"logprob\": [30.0, 29.0, 28.0, 27.0, 26.0, 25.0, 24.0, 23.0, 22.0, 21.0, 20.0, 19.0, 18.0, 17.0, 16.0, 15.0, 14.0, 13.0, 12.0, 11.0, 10.0, 9.0, 8.0, 7.0, 6.0, 5.0, 4.0, 3.0, 2.0, 1.0, -6.47629976272583, -6.501399993896484, -5.125, -6.228000164031982, -6.528800010681152, -6.945199966430664, -6.029200077056885, -6.544099807739258, -6.546899795532227, -5.56820011138916, -5.450799942016602, -6.042900085449219, -5.17110013961792, -6.047900199890137, -6.271599769592285, -5.0192999839782715, -6.96560001373291, -6.561699867248535, -4.834099769592285, -6.0594000816345215, -6.282599925994873, -5.272799968719482, -6.979700088500977, -6.2866997718811035, -6.575399875640869, -5.882299900054932, -6.577499866485596, -6.290500164031982, -5.886099815368652, -6.585999965667725, -5.402500152587891, -5.026299953460693, -5.763899803161621, -6.088799953460693, -6.091400146484375, -5.777100086212158, -5.2972002029418945, -5.472700119018555, -5.397900104522705, -5.401000022888184, -5.201499938964844, -5.940100193023682, -5.601200103759766, -5.2307000160217285, -5.9456000328063965, -5.628600120544434, -5.55620002746582, -5.9552998542785645, -5.748899936676025, -5.853400230407715, -5.866700172424316, -5.683300018310547, -5.961100101470947, -5.779099941253662, -5.923799991607666, -5.923500061035156, -5.260700225830078, -6.498199939727783, -6.915599822998047, -5.327499866485596, -6.9380998611450195, -6.5329999923706055, -6.9390997886657715, -6.023799896240234, -6.940400123596191, -5.6905999183654785, -6.029099941253662, -6.541800022125244, -6.9496002197265625, -6.953999996185303, -6.956099987030029, -6.551300048828125, -6.958199977874756, -6.963500022888184, -6.270599842071533, -6.559299945831299, -6.559599876403809, -6.276700019836426, -6.278600215911865, -6.973800182342529, -6.568399906158447, -6.568600177764893, -6.974699974060059, -6.974999904632568, -6.977799892425537, -5.726200103759766, -5.886600017547607, -6.288000106811523, -6.573299884796143, -6.292300224304199, -6.292799949645996, -5.088699817657471, -6.081399917602539, -5.116799831390381, -5.435500144958496, -5.920499801635742, -5.781899929046631, -5.573500156402588, -5.401100158691406, -5.404399871826172, -5.332499980926514, -5.688700199127197, -5.947199821472168, -5.949999809265137, -5.165500164031982, -5.60230016708374, -5.522500038146973, -5.959799766540527, -5.13040018081665, -5.838500022888184, -5.960700035095215, -5.337699890136719, -5.85260009765625, -5.60860013961792, -5.4953999519348145, -5.560800075531006, -5.568299770355225, -5.795000076293945, -5.913400173187256, -5.941999912261963]}, \"token.table\": {\"Topic\": [1, 1, 1, 2, 1, 1, 1, 2, 1, 2, 1, 2, 1, 2, 1, 2, 1, 2, 1, 2, 1, 2, 1, 2, 1, 1, 2, 1, 1, 2, 1, 2, 1, 2, 1, 2, 1, 1, 2, 1, 2, 1, 2, 1, 2, 1, 2, 1, 2, 1, 2, 1, 2, 1, 2, 1, 1, 2, 1, 2, 1, 1, 2, 1, 1, 2, 1, 2, 1, 2, 1, 2, 1, 1, 2, 1, 2, 1, 2, 1, 2, 1, 1, 1, 1, 2, 1, 1, 2, 1, 2, 1, 2, 1, 2, 1, 1, 2, 1, 2, 1, 2, 1, 2, 1, 1, 2, 1, 1, 1, 2, 1, 1, 2, 1, 2, 1, 1, 2, 1, 2, 1, 2, 1, 2, 1, 1, 2, 1, 2, 1, 2, 1, 2, 1, 2, 1, 2, 1, 2, 1, 1, 2, 1, 1, 1, 1, 2, 1, 2, 1, 2, 1, 2, 1, 2, 1, 2, 1, 2, 1, 2, 1, 2], \"Freq\": [0.9932490587234497, 0.8614955544471741, 0.7388214468955994, 0.3694107234477997, 0.7348942756652832, 0.9877655506134033, 0.8386051654815674, 0.4193025827407837, 0.8074577450752258, 0.26915258169174194, 0.5712422728538513, 0.5712422728538513, 0.8684442043304443, 0.21711105108261108, 0.7016050815582275, 0.17540127038955688, 0.8625653982162476, 0.2156413495540619, 0.8128398656845093, 0.3251359462738037, 0.7190839648246765, 0.35954198241233826, 0.6768601536750793, 0.2256200611591339, 0.7269495129585266, 0.8561035990715027, 0.2446010261774063, 0.7176048755645752, 0.7529221773147583, 0.15058444440364838, 0.565453827381134, 0.565453827381134, 0.690643846988678, 0.23021461069583893, 0.8352566957473755, 0.11932238191366196, 0.8525317311286926, 0.5864726305007935, 0.5864726305007935, 0.7404111623764038, 0.3702055811882019, 0.8067418336868286, 0.13445697724819183, 0.7423116564750671, 0.2474372237920761, 0.7715384364128113, 0.25717949867248535, 0.8488060832023621, 0.42440304160118103, 0.8788590431213379, 0.2929530143737793, 0.9002902507781982, 0.3000967502593994, 0.8152926564216614, 0.20382316410541534, 0.8732410073280334, 0.8405888080596924, 0.4202944040298462, 0.736133873462677, 0.24537797272205353, 0.8514747023582458, 0.7345515489578247, 0.36727577447891235, 0.843998908996582, 0.6664385795593262, 0.3332192897796631, 0.7110925316810608, 0.1777731329202652, 0.8386999368667603, 0.2795666456222534, 0.8119218945503235, 0.16238437592983246, 0.8436161875724792, 0.8724759221076965, 0.2908253073692322, 0.7803010940551758, 0.3121204376220703, 0.9015100002288818, 0.30050331354141235, 0.8383706212043762, 0.4191853106021881, 0.9729602336883545, 0.963601291179657, 0.8557165265083313, 0.8113593459129333, 0.2704531252384186, 0.9494436383247375, 0.7829328179359436, 0.2609775960445404, 0.6884108185768127, 0.34420540928840637, 0.700357973575592, 0.2334526628255844, 0.7166326642036438, 0.286653071641922, 0.988837480545044, 0.5611400604248047, 0.5611400604248047, 0.8236621618270874, 0.274554044008255, 0.8458981513977051, 0.42294907569885254, 0.7633461952209473, 0.25444871187210083, 0.9365193247795105, 0.5626087784767151, 0.5626087784767151, 0.9715502858161926, 0.8535290360450745, 0.7816317677497864, 0.17369593679904938, 0.9806713461875916, 0.7003746032714844, 0.23345820605754852, 0.6896946430206299, 0.34484732151031494, 0.8609727025032043, 0.7692816257476807, 0.25642719864845276, 0.7339779734611511, 0.36698898673057556, 0.8396821618080139, 0.20992054045200348, 0.5681185126304626, 0.5681185126304626, 0.8603425025939941, 0.7305715680122375, 0.1826428920030594, 0.8811822533607483, 0.29372742772102356, 0.8124979734420776, 0.2708326578140259, 0.5626595616340637, 0.5626595616340637, 0.7213844656944275, 0.24046149849891663, 0.8449649810791016, 0.4224824905395508, 0.7408413887023926, 0.24694712460041046, 0.7403754591941833, 0.8865655660629272, 0.2955218553543091, 0.8489067554473877, 0.842133104801178, 0.8434299826622009, 0.8009639978408813, 0.20024099946022034, 0.7418916821479797, 0.37094584107398987, 0.5741977095603943, 0.5741977095603943, 0.6812778115272522, 0.22709259390830994, 0.7177170515060425, 0.2870868146419525, 0.765487015247345, 0.2551623582839966, 0.565536618232727, 0.565536618232727, 0.8070757985115051, 0.2690252661705017, 0.6862497925758362, 0.3431248962879181], \"Term\": [\"acts\", \"ahead\", \"also\", \"also\", \"appreciation\", \"awareness\", \"communities\", \"communities\", \"community\", \"community\", \"condemn\", \"condemn\", \"conference\", \"conference\", \"conflict\", \"conflict\", \"continue\", \"continue\", \"continues\", \"continues\", \"countries\", \"countries\", \"delegation\", \"delegation\", \"delicacy\", \"development\", \"development\", \"disarmament\", \"economic\", \"economic\", \"effect\", \"effect\", \"efforts\", \"efforts\", \"environment\", \"environment\", \"exemplary\", \"full\", \"full\", \"general\", \"general\", \"global\", \"global\", \"hope\", \"hope\", \"important\", \"important\", \"indeed\", \"indeed\", \"independence\", \"independence\", \"integrity\", \"integrity\", \"international\", \"international\", \"iraq\", \"israel\", \"israel\", \"issue\", \"issue\", \"larger\", \"layer\", \"layer\", \"leap\", \"lebanon\", \"lebanon\", \"maldives\", \"maldives\", \"national\", \"national\", \"nations\", \"nations\", \"nodes\", \"note\", \"note\", \"nuclear\", \"nuclear\", \"opportunity\", \"opportunity\", \"ozone\", \"ozone\", \"paris\", \"part\", \"participation\", \"parties\", \"parties\", \"past\", \"peace\", \"peace\", \"peaceful\", \"peaceful\", \"people\", \"people\", \"political\", \"political\", \"programme\", \"prospects\", \"prospects\", \"recent\", \"recent\", \"reduction\", \"reduction\", \"regional\", \"regional\", \"regret\", \"related\", \"related\", \"rights\", \"rivalries\", \"security\", \"security\", \"single\", \"situation\", \"situation\", \"small\", \"small\", \"solve\", \"sovereignty\", \"sovereignty\", \"state\", \"state\", \"states\", \"states\", \"strong\", \"strong\", \"subjected\", \"support\", \"support\", \"survival\", \"survival\", \"system\", \"system\", \"systems\", \"systems\", \"taken\", \"taken\", \"terrorism\", \"terrorism\", \"therefore\", \"therefore\", \"threat\", \"today\", \"today\", \"tragic\", \"understanding\", \"unequal\", \"united\", \"united\", \"weaker\", \"weaker\", \"weakest\", \"weakest\", \"weapons\", \"weapons\", \"welcome\", \"welcome\", \"well\", \"well\", \"would\", \"would\", \"years\", \"years\", \"zones\", \"zones\"]}, \"R\": 30, \"lambda.step\": 0.01, \"plot.opts\": {\"xlab\": \"PC1\", \"ylab\": \"PC2\"}, \"topic.order\": [1, 2]};\n",
       "\n",
       "function LDAvis_load_lib(url, callback){\n",
       "  var s = document.createElement('script');\n",
       "  s.src = url;\n",
       "  s.async = true;\n",
       "  s.onreadystatechange = s.onload = callback;\n",
       "  s.onerror = function(){console.warn(\"failed to load library \" + url);};\n",
       "  document.getElementsByTagName(\"head\")[0].appendChild(s);\n",
       "}\n",
       "\n",
       "if(typeof(LDAvis) !== \"undefined\"){\n",
       "   // already loaded: just create the visualization\n",
       "   !function(LDAvis){\n",
       "       new LDAvis(\"#\" + \"ldavis_el99200112409643552498571478\", ldavis_el99200112409643552498571478_data);\n",
       "   }(LDAvis);\n",
       "}else if(typeof define === \"function\" && define.amd){\n",
       "   // require.js is available: use it to load d3/LDAvis\n",
       "   require.config({paths: {d3: \"https://cdnjs.cloudflare.com/ajax/libs/d3/3.5.5/d3.min\"}});\n",
       "   require([\"d3\"], function(d3){\n",
       "      window.d3 = d3;\n",
       "      LDAvis_load_lib(\"https://cdn.rawgit.com/bmabey/pyLDAvis/files/ldavis.v1.0.0.js\", function(){\n",
       "        new LDAvis(\"#\" + \"ldavis_el99200112409643552498571478\", ldavis_el99200112409643552498571478_data);\n",
       "      });\n",
       "    });\n",
       "}else{\n",
       "    // require.js not available: dynamically load d3 & LDAvis\n",
       "    LDAvis_load_lib(\"https://cdnjs.cloudflare.com/ajax/libs/d3/3.5.5/d3.min.js\", function(){\n",
       "         LDAvis_load_lib(\"https://cdn.rawgit.com/bmabey/pyLDAvis/files/ldavis.v1.0.0.js\", function(){\n",
       "                 new LDAvis(\"#\" + \"ldavis_el99200112409643552498571478\", ldavis_el99200112409643552498571478_data);\n",
       "            })\n",
       "         });\n",
       "}\n",
       "</script>"
      ],
      "text/plain": [
       "PreparedData(topic_coordinates=              x    y  topics  cluster       Freq\n",
       "topic                                           \n",
       "0      0.001566  0.0       1        1  75.662292\n",
       "1     -0.001566  0.0       2        1  24.337711, topic_info=     Category       Freq           Term      Total  loglift  logprob\n",
       "term                                                                \n",
       "157   Default   5.000000      countries   5.000000  30.0000  30.0000\n",
       "735   Default   8.000000      situation   8.000000  29.0000  29.0000\n",
       "736   Default   5.000000          small   5.000000  28.0000  28.0000\n",
       "233   Default   8.000000        efforts   8.000000  27.0000  27.0000\n",
       "145   Default   6.000000      continues   6.000000  26.0000  26.0000\n",
       "412   Default   9.000000  international   9.000000  25.0000  25.0000\n",
       "559   Default   7.000000          peace   7.000000  24.0000  24.0000\n",
       "422   Default   4.000000          issue   4.000000  23.0000  23.0000\n",
       "874   Default   6.000000        welcome   6.000000  22.0000  22.0000\n",
       "584   Default   6.000000      political   6.000000  21.0000  21.0000\n",
       "757   Default   2.000000          state   2.000000  20.0000  20.0000\n",
       "787   Default   4.000000          taken   4.000000  19.0000  19.0000\n",
       "461   Default   5.000000       maldives   5.000000  18.0000  18.0000\n",
       "706   Default  11.000000       security  11.000000  17.0000  17.0000\n",
       "519   Default   6.000000        nuclear   6.000000  16.0000  16.0000\n",
       "130   Default   5.000000       conflict   5.000000  15.0000  15.0000\n",
       "834   Default   4.000000         united   4.000000  14.0000  14.0000\n",
       "562   Default   4.000000         people   4.000000  13.0000  13.0000\n",
       "503   Default   3.000000       national   3.000000  12.0000  12.0000\n",
       "560   Default   2.000000       peaceful   2.000000  11.0000  11.0000\n",
       "893   Default   2.000000          zones   2.000000  10.0000  10.0000\n",
       "643   Default   3.000000         recent   3.000000   9.0000   9.0000\n",
       "758   Default   9.000000         states   9.000000   8.0000   8.0000\n",
       "872   Default   4.000000        weapons   4.000000   7.0000   7.0000\n",
       "784   Default   3.000000         system   3.000000   6.0000   6.0000\n",
       "554   Default   3.000000        parties   3.000000   5.0000   5.0000\n",
       "184   Default   4.000000     delegation   4.000000   4.0000   4.0000\n",
       "115   Default   3.000000      community   3.000000   3.0000   3.0000\n",
       "890   Default   3.000000          years   3.000000   2.0000   2.0000\n",
       "229   Default   6.000000       economic   6.000000   1.0000   1.0000\n",
       "...       ...        ...            ...        ...      ...      ...\n",
       "546    Topic2   0.695030          ozone   2.385580   0.1799  -6.2928\n",
       "735    Topic2   2.317061      situation   8.566844   0.1055  -5.0887\n",
       "445    Topic2   0.858658        lebanon   3.001027   0.1618  -6.0814\n",
       "233    Topic2   2.252885        efforts   8.687546   0.0635  -5.1168\n",
       "145    Topic2   1.637977      continues   6.151273   0.0899  -5.4355\n",
       "643    Topic2   1.008570         recent   3.642270   0.1291  -5.9205\n",
       "562    Topic2   1.158477         people   4.283524   0.1055  -5.7819\n",
       "461    Topic2   1.426858       maldives   5.625147   0.0414  -5.5735\n",
       "874    Topic2   1.695366        welcome   6.966534  -0.0001  -5.4011\n",
       "584    Topic2   1.689760      political   6.977075  -0.0049  -5.4044\n",
       "559    Topic2   1.815653          peace   7.663493  -0.0269  -5.3325\n",
       "834    Topic2   1.271587         united   4.993982   0.0452  -5.6887\n",
       "784    Topic2   0.981961         system   3.692317   0.0887  -5.9472\n",
       "554    Topic2   0.979205        parties   3.697499   0.0845  -5.9500\n",
       "412    Topic2   2.145650  international   9.812428  -0.1071  -5.1655\n",
       "130    Topic2   1.386414       conflict   5.701213  -0.0008  -5.6023\n",
       "519    Topic2   1.501592        nuclear   6.407783  -0.0378  -5.5225\n",
       "115    Topic2   0.969706      community   3.715365   0.0699  -5.9598\n",
       "706    Topic2   2.222450       security  11.514374  -0.2318  -5.1304\n",
       "872    Topic2   1.094691        weapons   4.403490   0.0212  -5.8385\n",
       "890    Topic2   0.968771          years   3.717123   0.0685  -5.9607\n",
       "758    Topic2   1.806332         states   9.527414  -0.2497  -5.3377\n",
       "184    Topic2   1.079410     delegation   4.432230   0.0007  -5.8526\n",
       "229    Topic2   1.377703       economic   6.640792  -0.1597  -5.6086\n",
       "203    Topic2   1.542848    development   8.176580  -0.2545  -5.4954\n",
       "326    Topic2   1.445050         global   7.437324  -0.2252  -5.5608\n",
       "246    Topic2   1.434342    environment   8.380657  -0.3521  -5.5683\n",
       "504    Topic2   1.143422        nations   6.158228  -0.2706  -5.7950\n",
       "777    Topic2   1.015746        support   5.475165  -0.2715  -5.9134\n",
       "127    Topic2   0.987051     conference   4.605938  -0.1272  -5.9420\n",
       "\n",
       "[150 rows x 6 columns], token_table=      Topic      Freq           Term\n",
       "term                                \n",
       "9         1  0.993249           acts\n",
       "26        1  0.861496          ahead\n",
       "30        1  0.738821           also\n",
       "30        2  0.369411           also\n",
       "42        1  0.734894   appreciation\n",
       "64        1  0.987766      awareness\n",
       "114       1  0.838605    communities\n",
       "114       2  0.419303    communities\n",
       "115       1  0.807458      community\n",
       "115       2  0.269153      community\n",
       "123       1  0.571242        condemn\n",
       "123       2  0.571242        condemn\n",
       "127       1  0.868444     conference\n",
       "127       2  0.217111     conference\n",
       "130       1  0.701605       conflict\n",
       "130       2  0.175401       conflict\n",
       "143       1  0.862565       continue\n",
       "143       2  0.215641       continue\n",
       "145       1  0.812840      continues\n",
       "145       2  0.325136      continues\n",
       "157       1  0.719084      countries\n",
       "157       2  0.359542      countries\n",
       "184       1  0.676860     delegation\n",
       "184       2  0.225620     delegation\n",
       "186       1  0.726950       delicacy\n",
       "203       1  0.856104    development\n",
       "203       2  0.244601    development\n",
       "215       1  0.717605    disarmament\n",
       "229       1  0.752922       economic\n",
       "229       2  0.150584       economic\n",
       "...     ...       ...            ...\n",
       "787       1  0.721384          taken\n",
       "787       2  0.240461          taken\n",
       "797       1  0.844965      terrorism\n",
       "797       2  0.422482      terrorism\n",
       "800       1  0.740841      therefore\n",
       "800       2  0.246947      therefore\n",
       "803       1  0.740375         threat\n",
       "811       1  0.886566          today\n",
       "811       2  0.295522          today\n",
       "818       1  0.848907         tragic\n",
       "828       1  0.842133  understanding\n",
       "831       1  0.843430        unequal\n",
       "834       1  0.800964         united\n",
       "834       2  0.200241         united\n",
       "869       1  0.741892         weaker\n",
       "869       2  0.370946         weaker\n",
       "870       1  0.574198        weakest\n",
       "870       2  0.574198        weakest\n",
       "872       1  0.681278        weapons\n",
       "872       2  0.227093        weapons\n",
       "874       1  0.717717        welcome\n",
       "874       2  0.287087        welcome\n",
       "875       1  0.765487           well\n",
       "875       2  0.255162           well\n",
       "888       1  0.565537          would\n",
       "888       2  0.565537          would\n",
       "890       1  0.807076          years\n",
       "890       2  0.269025          years\n",
       "893       1  0.686250          zones\n",
       "893       2  0.343125          zones\n",
       "\n",
       "[164 rows x 3 columns], R=30, lambda_step=0.01, plot_opts={'xlab': 'PC1', 'ylab': 'PC2'}, topic_order=[1, 2])"
      ]
     },
     "execution_count": 50,
     "metadata": {},
     "output_type": "execute_result"
    }
   ],
   "source": [
    "pyLDAvis.gensim.prepare(lda_model, gensim_corpus, gensim_dictionary)"
   ]
  },
  {
   "cell_type": "markdown",
   "metadata": {},
   "source": [
    "The left panel, labeld Intertopic Distance Map, circles represent different topics and the distance between them. Similar topics appear closer and the dissimilar topics farther. The relative size of a topic's circle in the plot corresponds to the relative frequency of the topic in the corpus. An individual topic may be selected for closer scrutiny by clicking on its circle, or entering its number in the \"selected topic\" box in the upper-left.\n"
   ]
  },
  {
   "cell_type": "markdown",
   "metadata": {},
   "source": [
    "The right panel, include the bar chart of the top 30 terms. When no topic is selected in the plot on the left, the bar chart shows the top-30 most \"salient\" terms in the corpus. A term's saliency is a measure of both how frequent the term is in the corpus and how \"distinctive\" it is in distinguishing between different topics. Selecting each topic on the right, modifies the bar chart to show the \"relevant\" terms for the selected topic. Relevence is defined as in footer 2 and can be tuned by parameter  λ\n",
    " , smaller  λ\n",
    "  gives higher weight to the term's distinctiveness while larger  λ\n",
    " s corresponds to probablity of the term occurance per topics.\n",
    "\n",
    "Therefore, to get a better sense of terms per topic we'll use  λ\n",
    " =0.\n"
   ]
  },
  {
   "cell_type": "code",
   "execution_count": 35,
   "metadata": {},
   "outputs": [
    {
     "data": {
      "text/plain": [
       "set()"
      ]
     },
     "execution_count": 35,
     "metadata": {},
     "output_type": "execute_result"
    }
   ],
   "source": [
    "vect.stop_words_"
   ]
  },
  {
   "cell_type": "code",
   "execution_count": null,
   "metadata": {},
   "outputs": [],
   "source": []
  }
 ],
 "metadata": {
  "kernelspec": {
   "display_name": "Python 3",
   "language": "python",
   "name": "python3"
  },
  "language_info": {
   "codemirror_mode": {
    "name": "ipython",
    "version": 3
   },
   "file_extension": ".py",
   "mimetype": "text/x-python",
   "name": "python",
   "nbconvert_exporter": "python",
   "pygments_lexer": "ipython3",

   "version": "3.6.6"

  }
 },
 "nbformat": 4,
 "nbformat_minor": 2
}
